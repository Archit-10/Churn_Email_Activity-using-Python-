{
 "cells": [
  {
   "cell_type": "code",
   "execution_count": 15,
   "metadata": {},
   "outputs": [],
   "source": [
    "def number_of_lines():\n",
    "    fhand = open('/cxldata/datasets/project/mbox-short.txt')\n",
    "    inp = fhand.read()\n",
    "    fhand.close()\n",
    "    count=0\n",
    "    for line in inp:\n",
    "        if(line==\"\\n\"):\n",
    "            count=count+1\n",
    "    return count\n",
    "    \n",
    "    "
   ]
  },
  {
   "cell_type": "code",
   "execution_count": 17,
   "metadata": {},
   "outputs": [
    {
     "data": {
      "text/plain": [
       "1910"
      ]
     },
     "execution_count": 17,
     "metadata": {},
     "output_type": "execute_result"
    }
   ],
   "source": [
    "number_of_lines()"
   ]
  },
  {
   "cell_type": "code",
   "execution_count": 21,
   "metadata": {},
   "outputs": [],
   "source": [
    "def count_number_of_lines():\n",
    "    with open(\"/cxldata/datasets/project/mbox-short.txt\") as f:\n",
    "        count=0\n",
    "        for line in f:\n",
    "            line=line.rstrip()\n",
    "            if line.startswith(\"Subject:\"):\n",
    "                count=count+1\n",
    "    return count            "
   ]
  },
  {
   "cell_type": "code",
   "execution_count": 22,
   "metadata": {},
   "outputs": [
    {
     "data": {
      "text/plain": [
       "27"
      ]
     },
     "execution_count": 22,
     "metadata": {},
     "output_type": "execute_result"
    }
   ],
   "source": [
    "count_number_of_lines()"
   ]
  },
  {
   "cell_type": "code",
   "execution_count": 29,
   "metadata": {},
   "outputs": [],
   "source": [
    "def average_spam_confidence():\n",
    "    with open(\"/cxldata/datasets/project/mbox-short.txt\") as f:\n",
    "        count=0\n",
    "        spam_confidence_sum=0\n",
    "        for line in f:\n",
    "            line=line.rstrip()\n",
    "            if line.startswith(\"X-DSPAM-Confidence:\"):\n",
    "                split,splitted=line.split(\":\")\n",
    "                spam_confidence_sum=spam_confidence_sum + float(splitted)\n",
    "                count=count+1\n",
    "    return spam_confidence_sum/count            "
   ]
  },
  {
   "cell_type": "code",
   "execution_count": 30,
   "metadata": {},
   "outputs": [
    {
     "data": {
      "text/plain": [
       "0.7507185185185187"
      ]
     },
     "execution_count": 30,
     "metadata": {},
     "output_type": "execute_result"
    }
   ],
   "source": [
    "average_spam_confidence()"
   ]
  },
  {
   "cell_type": "code",
   "execution_count": 51,
   "metadata": {},
   "outputs": [],
   "source": [
    "import re\n",
    "\n",
    "def find_email_sent_days():\n",
    "    with open(\"/cxldata/datasets/project/mbox-short.txt\") as f:\n",
    "        content=f.readlines()\n",
    "        day_dict=dict()\n",
    "        day=''\n",
    "        for line in content:\n",
    "            if re.findall(\"From \",line):\n",
    "                day=line.split(\" \")[2]\n",
    "                day_dict[day]=day_dict.get(day,0)+1\n",
    "    return day_dict\n",
    "\n",
    "                \n",
    "        "
   ]
  },
  {
   "cell_type": "code",
   "execution_count": 52,
   "metadata": {},
   "outputs": [
    {
     "data": {
      "text/plain": [
       "{'Sat': 1, 'Fri': 20, 'Thu': 6}"
      ]
     },
     "execution_count": 52,
     "metadata": {},
     "output_type": "execute_result"
    }
   ],
   "source": [
    "find_email_sent_days()"
   ]
  },
  {
   "cell_type": "code",
   "execution_count": null,
   "metadata": {},
   "outputs": [],
   "source": []
  }
 ],
 "metadata": {
  "kernelspec": {
   "display_name": "Python 3",
   "language": "python",
   "name": "python3"
  },
  "language_info": {
   "codemirror_mode": {
    "name": "ipython",
    "version": 3
   },
   "file_extension": ".py",
   "mimetype": "text/x-python",
   "name": "python",
   "nbconvert_exporter": "python",
   "pygments_lexer": "ipython3",
   "version": "3.6.8"
  },
  "toc": {
   "base_numbering": 1,
   "nav_menu": {},
   "number_sections": true,
   "sideBar": true,
   "skip_h1_title": false,
   "title_cell": "Table of Contents",
   "title_sidebar": "Contents",
   "toc_cell": false,
   "toc_position": {},
   "toc_section_display": true,
   "toc_window_display": false
  }
 },
 "nbformat": 4,
 "nbformat_minor": 2
}
